{
 "metadata": {
  "name": "report_Sawyer_T.ipynb"
 },
 "nbformat": 3,
 "nbformat_minor": 0,
 "worksheets": [
  {
   "cells": [
    {
     "cell_type": "heading",
     "level": 2,
     "metadata": {},
     "source": [
      "CS 195 / MATH 195 ::: Final Project<br />\n",
      "Tyler J. Sawyer<br />\n",
      "Last Updated: 5/1/14"
     ]
    },
    {
     "cell_type": "heading",
     "level": 3,
     "metadata": {},
     "source": [
      "<hr>Background"
     ]
    },
    {
     "cell_type": "markdown",
     "metadata": {},
     "source": [
      "Last year, I was a member of a team of Computer Science students from UVM participating in the annual <a href=\"http://hackvt.com/\">HackVT convention</a>. HackVT is a 24-hour programming competition in which teams of Computer Scientists work together to create an insightful and useful application (whether it be a mobile application or a web based application) for the State of Vermont. HackVT contestants are provided with a <a href=\"http://hackvt.com/data/\">plethora of data sets</a>, of which we are required to incorporate at least one in our final product.\n",
      "\n",
      "After conducting research for my Midterm Project, I have decided that the data relative to Vermont itself may seem rather sparse in certain aspects. Namely, obtaining gas price information and specific census information on a small town basis was a rather difficult process as the datasets were fairly limited. However, towards the end of my project, I generated the idea that perhaps this information paired along with other data sets might be useful when compared across our country.\n",
      "\n",
      "With this in mind, I started browsing a wide variety of websites for any significant data sets that could fit the scope of this project. After countless hours of searching, I have determined the <a href=\"http://www.census.gov/main/www/access.html\">US Census Bureau</a> has some amazing data retrieving tools and data sets that can range back almost 75 years. Using the Census Bureau data sets as a foundation for this project, I combined the data I parsed from their data sets with some data sets provided in my Midterm Project, as well as some new sources, to investigate some economic, social, and cultural trends and attempted to formulate some correlations between these fields of study."
     ]
    },
    {
     "cell_type": "heading",
     "level": 3,
     "metadata": {},
     "source": [
      "<hr>Abstract\n"
     ]
    },
    {
     "cell_type": "markdown",
     "metadata": {},
     "source": [
      "Abstract Info Here\n"
     ]
    },
    {
     "cell_type": "heading",
     "level": 3,
     "metadata": {},
     "source": [
      "<hr>Project Questions / Goals"
     ]
    },
    {
     "cell_type": "markdown",
     "metadata": {},
     "source": [
      "<b>Here are the list of trends we will be investigating in this report.<br /></b><i>Note: This was pulled directly from my initial Project Proposal for this course.</i>\n",
      "\n",
      "- <span style=\"color:#AA0000;\">[Project Question]</span> Is there a relation between a state's Population and it's unemployment rate?\n",
      "- <span style=\"color:#AA0000;\">[Project Question]</span> Is there a relation between a state's Population and it's cost of living?\n",
      "- <span style=\"color:#AA0000;\">[Project Question]</span> Does the average annual wage of a state have an effect on its cost of living or gas prices?\n",
      "- <span style=\"color:#AA0000;\">[Project Question]</span> Does the average rainfall in a state effect its gas prices or its cost of living?\n",
      "- <span style=\"color:#AA0000;\">[Project Question]</span> Does the average population density of a state effect its housing costs?\n",
      "- <span style=\"color:#AA0000;\">[Project Question]</span> Is there a relation between a state's housing costs and average annual wage?\n",
      "- <span style=\"color:#00AA00;\">[Bonus]</span> Is there a relation between states with a higher coverage by HMOs and the average income?\n",
      "- <span style=\"color:#00AA00;\">[Bonus]</span> Is there a relation between states with higher health coverage and the average income?\n",
      "- <span style=\"color:#00AA00;\">[Bonus]</span> Is there a relation between a state's population and health coverage?\n"
     ]
    },
    {
     "cell_type": "heading",
     "level": 3,
     "metadata": {},
     "source": [
      "<hr>Datasets"
     ]
    },
    {
     "cell_type": "markdown",
     "metadata": {},
     "source": [
      "Here is a complete list of where all of the data sets used in this report may be found. Please note that these datasets may not exist at some period in the future, but I have verified that all of these links are correct as of 5/4/14. \n",
      "\n",
      "This report uses spreadsheets of data obtained from the US Census Bureau <a href=\"http://www.census.gov/developers/tos/terms.html\">but is not endorsed or certified by the Census Bureau</a>.\n",
      "\n",
      "Data obtained from Wunderground is acceptable by their <a href=\"http://www.wunderground.com/weather/api/d/terms.html\">Terms of Service</a> for free to developers up to a maximum of 500 page requests per 24 hours.\n",
      "\n",
      "<hr>\n",
      "<b>Data Sets :</b>\n",
      "\n",
      "<a href=\"http://www.wunderground.com/cgi-bin/findweather/\"><b>Wunderground Weather Reports for US</b></a>\n",
      "This data set provides current and historical weather information for the major cities dating back to 1960. I will mostly be using the historical data from this set for my project.\n",
      "\n",
      "<a href=\"https://www.census.gov/compendia/statab/cats/prices/consumer_price_indexes_cost_of_living_index.html\"><b>Purchasing Power of the Dollar by Year</b></a> This data set shows on average the purchasing power of the US Dollar every year dating back from 1960 to 2010.\n",
      "\n",
      "<a href=\"https://www.census.gov/compendia/statab/cats/prices/consumer_price_indexes_cost_of_living_index.html\"><b>Cost Of Living Index - Select Areas</b></a> This provides some average cost of living in certain cities across the US for the year 2010.\n",
      "\n",
      "<a href=\"https://www.census.gov/compendia/statab/cats/prices/consumer_price_indexes_cost_of_living_index.html\"><b>Single Family Housing Price Index by State</b></a> This provides some average household costs by state, as well as fuel prices and cost of living from 1980 - 2010.\n",
      "\n",
      "<a href=\"https://www.census.gov/compendia/statab/cats/population.html\"><b>State Population</b></a> This dataset provides population information for each state between 1980 and 2010, including average population density and population change over 10 year spans.\n",
      "\n",
      "<a href=\"https://www.census.gov/compendia/statab/cats/labor_force_employment_earnings.html\"><b>Average Annual Wage by State</b></a> This dataset entails information about the average employment earnings by state for 2008 and 2009.\n",
      "\n",
      "<a href=\"https://www.census.gov/compendia/statab/cats/labor_force_employment_earnings.html\"><b>Civilian Population - Employment Status</b></a> This provides employment information for the entire US between 1970 and 2011.\n",
      "\n",
      "<a href=\"https://www.census.gov/compendia/statab/cats/labor_force_employment_earnings.html\"><b>Total Unemployed and Insured Unemployed by State</b></a> This dataset shows information between 1990 and 2011 about the number of unemployed persons by state and the percentage of those that are insured by programs such as Welfare.\n",
      "\n",
      "<a href=\"https://www.census.gov/compendia/statab/cats/health_nutrition/health_insurance.html\"><b>Persons Enrolled in Health Maintenance Organizations (HMOs) by State</b></a> This dataset provides information from 1990 to 2010 about populations by state enrolled in HMO programs.\n",
      "\n",
      "<a href=\"https://www.census.gov/compendia/statab/cats/health_nutrition/health_insurance.html\"><b>Persons with and without Health Coverage by State</b></a> This dataset provides information about the percentage of a state's population covered by healthcare by state between 2008 and 2009.\n",
      "\n",
      "<hr>\n",
      "\n",
      "<span style=\"color:#FF0000; font-weight:bold;\">Complications with Data Sets :</span><br />\n",
      "\n",
      "<hr>\n",
      "<span style=\"font-weight:bold;\">File Formats and Data Gathering Techniques</span><br />\n",
      "\n",
      "<hr>\n",
      "<span style=\"font-weight:bold;\">Handling Noise (Bad / Missing Data)</span><br />\n"
     ]
    },
    {
     "cell_type": "heading",
     "level": 3,
     "metadata": {},
     "source": [
      "<hr>Results and Analysis - The Data"
     ]
    },
    {
     "cell_type": "markdown",
     "metadata": {},
     "source": [
      "lalal\n"
     ]
    },
    {
     "cell_type": "heading",
     "level": 3,
     "metadata": {},
     "source": [
      "<hr>Conclusion"
     ]
    },
    {
     "cell_type": "heading",
     "level": 4,
     "metadata": {},
     "source": [
      "<hr>Findings :"
     ]
    },
    {
     "cell_type": "markdown",
     "metadata": {},
     "source": [
      "Findings Go Here"
     ]
    },
    {
     "cell_type": "heading",
     "level": 4,
     "metadata": {},
     "source": [
      "<hr>Goals Revisited :"
     ]
    },
    {
     "cell_type": "markdown",
     "metadata": {},
     "source": [
      "- <span style=\"color:#AA0000;\">[Project Question]</span> Is there a relation between a state's Population and it's unemployment rate?\n",
      "- <span style=\"color:#AA0000;\">[Project Question]</span> Is there a relation between a state's Population and it's cost of living?\n",
      "- <span style=\"color:#AA0000;\">[Project Question]</span> Does the average annual wage of a state have an effect on its cost of living or gas prices?\n",
      "- <span style=\"color:#AA0000;\">[Project Question]</span> Does the average rainfall in a state effect its gas prices or its cost of living?\n",
      "- <span style=\"color:#AA0000;\">[Project Question]</span> Does the average population density of a state effect its housing costs?\n",
      "- <span style=\"color:#AA0000;\">[Project Question]</span> Is there a relation between a state's housing costs and average annual wage?\n",
      "- <span style=\"color:#00AA00;\">[Bonus]</span> Is there a relation between states with a higher coverage by HMOs and the average income?\n",
      "- <span style=\"color:#00AA00;\">[Bonus]</span> Is there a relation between states with higher health coverage and the average income?\n",
      "- <span style=\"color:#00AA00;\">[Bonus]</span> Is there a relation between a state's population and health coverage?"
     ]
    },
    {
     "cell_type": "heading",
     "level": 4,
     "metadata": {},
     "source": [
      "<hr>Future Work and Final Remarks :"
     ]
    },
    {
     "cell_type": "markdown",
     "metadata": {},
     "source": [
      "Future Work Info Here - What did I find interesting about the project."
     ]
    },
    {
     "cell_type": "heading",
     "level": 4,
     "metadata": {},
     "source": [
      "<hr>Further Information regarding GitHub :"
     ]
    },
    {
     "cell_type": "markdown",
     "metadata": {},
     "source": [
      "Information about GitHub Repo of this project."
     ]
    }
   ],
   "metadata": {}
  }
 ]
}