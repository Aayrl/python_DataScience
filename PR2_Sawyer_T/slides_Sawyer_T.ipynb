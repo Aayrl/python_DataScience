{
 "metadata": {
  "name": "slides_Sawyer_T.ipynb"
 },
 "nbformat": 3,
 "nbformat_minor": 0,
 "worksheets": [
  {
   "cells": [
    {
     "cell_type": "markdown",
     "metadata": {},
     "source": [
      "<div style='background-color:#3399FF; color:#FFFFFF; padding:30px; text-align:center; font-size:40px; border-radius:8px; border: 1px solid #000;'>CS 195 / MATH 195 - Final Project Presentation<br /><br /><br />\n",
      "Tyler J. Sawyer<br /><br /><br />\n",
      "Presented On: 5/6/14</div>"
     ]
    },
    {
     "cell_type": "markdown",
     "metadata": {},
     "source": [
      "<div style='background-color:#3399FF; color:#FFFFFF; padding:10px; text-align:left; font-size:30px; border-radius:8px; border: 1px solid #000; width:370px;'>Background Information</div>"
     ]
    },
    {
     "cell_type": "markdown",
     "metadata": {},
     "source": [
      "<div style='background-color:#eee; color:#000; padding:10px; text-align:left; font-size:20px; margin-left:200px; border-radius:8px;'>About Me:<br /><br />\n",
      "- Junior Computer Science Major<br /><br />\n",
      "- - Dual Minor in Mathematics and Astronomy<br /><br />\n",
      "Reasons for Taking This Course:<br /><br />\n",
      "\n",
      "</div>"
     ]
    }
   ],
   "metadata": {}
  }
 ]
}